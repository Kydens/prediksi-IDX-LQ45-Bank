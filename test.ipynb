{
 "cells": [
  {
   "cell_type": "code",
   "execution_count": null,
   "metadata": {},
   "outputs": [],
   "source": [
    "import pandas as pd\n",
    "import numpy as np\n",
    "from sklearn.ensemble import RandomForestRegressor, VotingRegressor\n",
    "from xgboost import XGBRegressor\n",
    "# from sklearn.ensemble import VotingRegressor\n",
    "# from custom_model import RandomForestRegressor, XGBoostRegressor\n",
    "import yfinance as yf\n",
    "import matplotlib.pyplot as plt"
   ]
  },
  {
   "cell_type": "code",
   "execution_count": null,
   "metadata": {},
   "outputs": [],
   "source": [
    "def add_lag(dataframe, days):\n",
    "    df_copy = dataframe.copy()\n",
    "    \n",
    "    for feature in ['Open', 'High', 'Low', 'Volume']:\n",
    "        df_copy[f'{feature.lower()}_lag'] = dataframe[feature].shift(periods=days)\n",
    "    \n",
    "    return df_copy"
   ]
  },
  {
   "cell_type": "code",
   "execution_count": null,
   "metadata": {},
   "outputs": [],
   "source": [
    "def prepare_future_data(df, days_to_predict):\n",
    "    last_date = pd.to_datetime(df.index.max())\n",
    "    \n",
    "    future_dates = pd.date_range(start=last_date+pd.Timedelta(days=1), periods=days_to_predict, freq='B')\n",
    "    \n",
    "    # Create future dataframe with NaN values\n",
    "    future_df = pd.DataFrame(index=future_dates,\n",
    "                           columns=df.columns)\n",
    "    \n",
    "    # Combine historical and future data\n",
    "    combined_df = pd.concat([df, future_df])\n",
    "    \n",
    "    # Add lag features\n",
    "    combined_df = add_lag(combined_df, days=days_to_predict)\n",
    "    \n",
    "    # For future dates, keep lag features\n",
    "    future_feature_df = combined_df.loc[future_dates]\n",
    "    \n",
    "    # Keep only lag features for prediction\n",
    "    features_for_prediction = ['open_lag', 'high_lag', 'low_lag', 'volume_lag']\n",
    "    \n",
    "    # print(f'df: {df}')\n",
    "    # print(f'future: {future_df}')\n",
    "    # print(f'combined: {combined_df}')\n",
    "    print(f'future_df: {future_feature_df[features_for_prediction]}')\n",
    "    \n",
    "    return future_feature_df[features_for_prediction], future_dates"
   ]
  },
  {
   "cell_type": "code",
   "execution_count": null,
   "metadata": {},
   "outputs": [],
   "source": [
    "ticker_market = yf.Ticker('BMRI.JK')\n",
    "df = ticker_market.history(period='5y')\n",
    "df.index = pd.to_datetime(df.index, format='%Y-%m-%d')\n",
    "df = df.drop(['Dividends', 'Stock Splits'], axis=1)"
   ]
  },
  {
   "cell_type": "code",
   "execution_count": null,
   "metadata": {},
   "outputs": [],
   "source": [
    "df"
   ]
  },
  {
   "cell_type": "code",
   "execution_count": null,
   "metadata": {},
   "outputs": [],
   "source": [
    "df_with_lags = add_lag(df, days=30)\n",
    "df_with_lags.dropna()"
   ]
  },
  {
   "cell_type": "code",
   "execution_count": null,
   "metadata": {},
   "outputs": [],
   "source": [
    "features = ['open_lag','high_lag','low_lag','volume_lag']\n",
    "target = ['Close']\n",
    "\n",
    "X = df_with_lags[features].values\n",
    "y = df_with_lags[target].values.ravel()"
   ]
  },
  {
   "cell_type": "code",
   "execution_count": null,
   "metadata": {},
   "outputs": [],
   "source": [
    "rf = RandomForestRegressor(n_estimators=250,\n",
    "                                max_depth=20,\n",
    "                                max_features=4,\n",
    "                                min_samples_leaf=2,\n",
    "                                min_samples_split=2)\n",
    "# xgb = XGBoostRegressor(n_estimators=250,\n",
    "#                 eta=0.01,\n",
    "#                 max_depth=12,\n",
    "#                 subsample=0.3)\n",
    "xgb = XGBRegressor(n_estimators=250,\n",
    "                eta=0.01,\n",
    "                max_depth=12,\n",
    "                subsample=0.3)\n",
    "        \n",
    "model = VotingRegressor(estimators=[\n",
    "            ('rf', rf),\n",
    "            ('xgb', xgb)\n",
    "        ], weights=None)"
   ]
  },
  {
   "cell_type": "code",
   "execution_count": null,
   "metadata": {},
   "outputs": [],
   "source": [
    "model.fit(X, y)"
   ]
  },
  {
   "cell_type": "code",
   "execution_count": null,
   "metadata": {},
   "outputs": [],
   "source": [
    "last_dates = df.index.max()"
   ]
  },
  {
   "cell_type": "code",
   "execution_count": null,
   "metadata": {},
   "outputs": [],
   "source": [
    "days_to_predict = 30\n",
    "future_features, future_dates = prepare_future_data(df, days_to_predict)"
   ]
  },
  {
   "cell_type": "code",
   "execution_count": null,
   "metadata": {},
   "outputs": [],
   "source": [
    "prediction_features = ['open_lag', 'high_lag', 'low_lag', 'volume_lag']\n",
    "future_features[prediction_features] = future_features[prediction_features].astype('float64')\n",
    "y_pred_future = model.predict(future_features[prediction_features])"
   ]
  },
  {
   "cell_type": "code",
   "execution_count": null,
   "metadata": {},
   "outputs": [],
   "source": [
    "y_pred_future"
   ]
  },
  {
   "cell_type": "code",
   "execution_count": null,
   "metadata": {},
   "outputs": [],
   "source": [
    "future_predictions = pd.DataFrame(\n",
    "    y_pred_future,\n",
    "    index=future_dates,\n",
    "    columns=['Close']\n",
    ")\n",
    "\n",
    "historical_data = pd.DataFrame(df['Close'])\n",
    "combined_df = pd.concat([historical_data, future_predictions])\n",
    "\n",
    "combined_dates = combined_df.index\n",
    "combined_close = combined_df['Close'].values"
   ]
  },
  {
   "cell_type": "code",
   "execution_count": null,
   "metadata": {},
   "outputs": [],
   "source": [
    "# # rmse = root_mean_squared_error(y_test, y_pred)\n",
    "# # r2 = r2_score(y_test, y_pred)\n",
    "# rmse = root_mean_squared_error(y, y_pred)\n",
    "# r2 = r2_score(y, y_pred)\n",
    "\n",
    "# print(f'Nilai RMSE: {rmse}')\n",
    "# print(f'Nilai R2: {r2}')"
   ]
  },
  {
   "cell_type": "code",
   "execution_count": null,
   "metadata": {},
   "outputs": [],
   "source": [
    "plt.figure(figsize=(15,12))\n",
    "plt.plot(combined_dates, combined_close)\n",
    "plt.show()"
   ]
  },
  {
   "cell_type": "code",
   "execution_count": null,
   "metadata": {},
   "outputs": [],
   "source": [
    "# ticker_market = yf.Ticker('BBCA.JK')\n",
    "\n",
    "# df = ticker_market.history(period='5y')\n",
    "# df.index = pd.to_datetime(df.index, format='%Y-%m-%d')\n",
    "\n",
    "# dates = df.index.strftime('%Y-%m-%d').tolist()\n",
    "\n",
    "# close_actual = df['Close'].values.tolist()"
   ]
  },
  {
   "cell_type": "code",
   "execution_count": null,
   "metadata": {},
   "outputs": [],
   "source": [
    "# df = df.drop(['Dividends','Stock Splits'], axis=1)\n",
    "# df"
   ]
  },
  {
   "cell_type": "code",
   "execution_count": null,
   "metadata": {},
   "outputs": [],
   "source": [
    "# def add_lag(dataframe, n_past):\n",
    "#     # period = round((days * 5)/7)\n",
    "#     # dataframe['lag'] = dataframe['Close'].shift(periods=period, freq='B')\n",
    "#     # target_map = dataframe['Close'].to_dict()\n",
    "#     # dataframe['lag'] = (dataframe.index - pd.Timedelta('364 days')).map(target_map)\n",
    "    \n",
    "#     df_copy = dataframe.copy()\n",
    "#     # lag_offset = pd.offsets.BDay(days)\n",
    "#     # lagged_index = df_copy.index - lag_offset\n",
    "\n",
    "#     # for feature in ['Open', 'High', 'Low', 'Volume']:\n",
    "#     #     target_map = dict(zip(df_copy.index, df_copy[feature]))\n",
    "#     #     df_copy[f'{feature.lower()}_lag'] = lagged_index.map(target_map)\n",
    "#     df_copy = df_copy.dropna()\n",
    "    \n",
    "#     price_columns = ['Open', 'High', 'Low', 'Close', 'Volume']\n",
    "#     for column in price_columns:\n",
    "#         for lag in range(1, n_past + 1):\n",
    "#             df_copy[f'{column}_lag{lag}'] = df_copy[column].shift(periods=lag, freq='B')\n",
    "    \n",
    "#     df_copy = df_copy.dropna()\n",
    "    \n",
    "#     return df_copy"
   ]
  },
  {
   "cell_type": "code",
   "execution_count": null,
   "metadata": {},
   "outputs": [],
   "source": [
    "# df_featured = add_lag(df,7)\n",
    "# df_featured\n",
    "# features = df_featured.drop(columns=['Close'], axis=1)\n",
    "# target = df_featured[['Close']]\n",
    "\n",
    "# X = features\n",
    "# y = target.values.ravel()"
   ]
  },
  {
   "cell_type": "code",
   "execution_count": null,
   "metadata": {},
   "outputs": [],
   "source": [
    "# rf = RandomForestRegressor(n_estimators=100,\n",
    "#                                 max_depth=20,\n",
    "#                                 max_features=4,\n",
    "#                                 min_samples_leaf=2,\n",
    "#                                 min_samples_split=2)\n",
    "# xgb = XGBRegressor(n_estimators=100,\n",
    "#                 eta=0.2,\n",
    "#                 max_depth=6,\n",
    "#                 subsample=0.3)\n",
    "        \n",
    "# model = VotingRegressor(estimators=[\n",
    "#             ('rf', rf),\n",
    "#             ('xgb', xgb)\n",
    "#         ], weights=None)"
   ]
  },
  {
   "cell_type": "code",
   "execution_count": null,
   "metadata": {},
   "outputs": [],
   "source": [
    "model.fit(X,y)"
   ]
  },
  {
   "cell_type": "code",
   "execution_count": null,
   "metadata": {},
   "outputs": [],
   "source": [
    "# n_past = 30\n",
    "# days = 30\n",
    "\n",
    "# last_data = df.tail(n_past + days).copy()\n",
    "# predictions = []\n",
    "\n",
    "# last_date = pd.to_datetime(df_featured.index[-1])\n",
    "# dates_future = pd.date_range(start=last_date + pd.Timedelta(days=1), periods=days, freq='B')\n",
    "\n",
    "# for _ in range(days):\n",
    "#     features_df = add_lag(last_data, n_past)\n",
    "#     last_features = features_df.iloc[[-1]]\n",
    "    \n",
    "    \n",
    "#     # Make prediction\n",
    "#     pred = model.predict(X)\n",
    "#     predictions.append(pred)\n",
    "    \n",
    "#     # Update the data for the next prediction\n",
    "#     new_row = last_data.iloc[-1].copy()\n",
    "#     new_row['Close'] = pred\n",
    "#     last_data = pd.concat([last_data, pd.DataFrame([new_row])])\n",
    "    \n",
    "# predictions = np.array(predictions)"
   ]
  },
  {
   "cell_type": "code",
   "execution_count": null,
   "metadata": {},
   "outputs": [],
   "source": []
  }
 ],
 "metadata": {
  "kernelspec": {
   "display_name": ".venv",
   "language": "python",
   "name": "python3"
  },
  "language_info": {
   "codemirror_mode": {
    "name": "ipython",
    "version": 3
   },
   "file_extension": ".py",
   "mimetype": "text/x-python",
   "name": "python",
   "nbconvert_exporter": "python",
   "pygments_lexer": "ipython3",
   "version": "3.12.1"
  }
 },
 "nbformat": 4,
 "nbformat_minor": 2
}
